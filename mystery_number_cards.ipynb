{
 "cells": [
  {
   "cell_type": "markdown",
   "metadata": {},
   "source": [
    "## Mystery Calculator Cards Generator"
   ]
  },
  {
   "cell_type": "markdown",
   "metadata": {},
   "source": [
    "**Description:** This notebook takes a list of numbers as inputs and then generates the numbers that would go on each card to make a Mystery Calculator trick."
   ]
  },
  {
   "cell_type": "code",
   "execution_count": 1,
   "metadata": {},
   "outputs": [],
   "source": [
    "# Load library to efficiently make all number combinations of all lengths (this is called a powerset)\n",
    "from itertools import chain, combinations"
   ]
  },
  {
   "cell_type": "code",
   "execution_count": 2,
   "metadata": {},
   "outputs": [],
   "source": [
    "# Define a function to get the powerset\n",
    "def powerset(list_of_numbers):\n",
    "    return list(chain.from_iterable(combinations(list_of_numbers, r) for r in range(1, len(list_of_numbers) + 1)))"
   ]
  },
  {
   "cell_type": "markdown",
   "metadata": {},
   "source": [
    "**Step 1:** Define a list of numbers that you want to be in the upper left corners of the cards"
   ]
  },
  {
   "cell_type": "code",
   "execution_count": 5,
   "metadata": {},
   "outputs": [],
   "source": [
    "upper_left_number_list = [7, 14, 28, 56, 112, 224]"
   ]
  },
  {
   "cell_type": "markdown",
   "metadata": {},
   "source": [
    "**Step 2:** Calculate the powerset of the upper left numbers (i.e., all combinations of those numbers)"
   ]
  },
  {
   "cell_type": "code",
   "execution_count": 6,
   "metadata": {},
   "outputs": [
    {
     "name": "stdout",
     "output_type": "stream",
     "text": [
      "[(7,), (14,), (28,), (56,), (112,), (224,), (7, 14), (7, 28), (7, 56), (7, 112), (7, 224), (14, 28), (14, 56), (14, 112), (14, 224), (28, 56), (28, 112), (28, 224), (56, 112), (56, 224), (112, 224), (7, 14, 28), (7, 14, 56), (7, 14, 112), (7, 14, 224), (7, 28, 56), (7, 28, 112), (7, 28, 224), (7, 56, 112), (7, 56, 224), (7, 112, 224), (14, 28, 56), (14, 28, 112), (14, 28, 224), (14, 56, 112), (14, 56, 224), (14, 112, 224), (28, 56, 112), (28, 56, 224), (28, 112, 224), (56, 112, 224), (7, 14, 28, 56), (7, 14, 28, 112), (7, 14, 28, 224), (7, 14, 56, 112), (7, 14, 56, 224), (7, 14, 112, 224), (7, 28, 56, 112), (7, 28, 56, 224), (7, 28, 112, 224), (7, 56, 112, 224), (14, 28, 56, 112), (14, 28, 56, 224), (14, 28, 112, 224), (14, 56, 112, 224), (28, 56, 112, 224), (7, 14, 28, 56, 112), (7, 14, 28, 56, 224), (7, 14, 28, 112, 224), (7, 14, 56, 112, 224), (7, 28, 56, 112, 224), (14, 28, 56, 112, 224), (7, 14, 28, 56, 112, 224)]\n"
     ]
    }
   ],
   "source": [
    "my_powerset = powerset(upper_left_number_list)\n",
    "print(my_powerset)"
   ]
  },
  {
   "cell_type": "markdown",
   "metadata": {},
   "source": [
    "**Step 3:** Calculate all possible unique sums of these numbers"
   ]
  },
  {
   "cell_type": "code",
   "execution_count": 7,
   "metadata": {},
   "outputs": [
    {
     "name": "stdout",
     "output_type": "stream",
     "text": [
      "{385, 259, 133, 7, 392, 266, 140, 14, 399, 273, 147, 21, 406, 280, 154, 28, 413, 287, 161, 35, 420, 294, 168, 42, 427, 301, 175, 49, 434, 308, 182, 56, 441, 315, 189, 63, 322, 196, 70, 329, 203, 77, 336, 210, 84, 343, 217, 91, 350, 224, 98, 357, 231, 105, 364, 238, 112, 371, 245, 119, 378, 252, 126}\n"
     ]
    }
   ],
   "source": [
    "all_sums = set([sum(x) for x in my_powerset])\n",
    "print(all_sums)"
   ]
  },
  {
   "cell_type": "markdown",
   "metadata": {},
   "source": [
    "**Step 4:** Now identify which of the original numbers contribute to each sum to determine which numbers goes on each mystery card"
   ]
  },
  {
   "cell_type": "code",
   "execution_count": 19,
   "metadata": {},
   "outputs": [
    {
     "name": "stdout",
     "output_type": "stream",
     "text": [
      "Card Number 1: [7, 21, 35, 49, 63, 77, 91, 105, 119, 133, 147, 161, 175, 189, 203, 217, 231, 245, 259, 273, 287, 301, 315, 329, 343, 357, 371, 385, 399, 413, 427, 441]\n",
      "Card Number 2: [14, 21, 42, 49, 70, 77, 98, 105, 126, 133, 154, 161, 182, 189, 210, 217, 238, 245, 266, 273, 294, 301, 322, 329, 350, 357, 378, 385, 406, 413, 434, 441]\n",
      "Card Number 3: [28, 35, 42, 49, 84, 91, 98, 105, 140, 147, 154, 161, 196, 203, 210, 217, 252, 259, 266, 273, 308, 315, 322, 329, 364, 371, 378, 385, 420, 427, 434, 441]\n",
      "Card Number 4: [56, 63, 70, 77, 84, 91, 98, 105, 168, 175, 182, 189, 196, 203, 210, 217, 280, 287, 294, 301, 308, 315, 322, 329, 392, 399, 406, 413, 420, 427, 434, 441]\n",
      "Card Number 5: [112, 119, 126, 133, 140, 147, 154, 161, 168, 175, 182, 189, 196, 203, 210, 217, 336, 343, 350, 357, 364, 371, 378, 385, 392, 399, 406, 413, 420, 427, 434, 441]\n",
      "Card Number 6: [224, 231, 238, 245, 252, 259, 266, 273, 280, 287, 294, 301, 308, 315, 322, 329, 336, 343, 350, 357, 364, 371, 378, 385, 392, 399, 406, 413, 420, 427, 434, 441]\n"
     ]
    }
   ],
   "source": [
    "for idx,num in enumerate(upper_left_number_list):\n",
    "    nums_for_card = [sum(x) for x in my_powerset if num in x]\n",
    "    print(f'Card Number {idx + 1}: {sorted(nums_for_card)}')"
   ]
  },
  {
   "cell_type": "code",
   "execution_count": null,
   "metadata": {},
   "outputs": [],
   "source": []
  }
 ],
 "metadata": {
  "finalized": {
   "timestamp": 1642194994416,
   "trusted": true
  },
  "kernelspec": {
   "display_name": "Python 3",
   "language": "python",
   "name": "python3"
  },
  "language_info": {
   "codemirror_mode": {
    "name": "ipython",
    "version": 3
   },
   "file_extension": ".py",
   "mimetype": "text/x-python",
   "name": "python",
   "nbconvert_exporter": "python",
   "pygments_lexer": "ipython3",
   "version": "3.9.7"
  }
 },
 "nbformat": 4,
 "nbformat_minor": 4
}
